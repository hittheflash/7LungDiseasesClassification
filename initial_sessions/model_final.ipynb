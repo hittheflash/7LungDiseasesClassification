{
 "cells": [
  {
   "cell_type": "code",
   "execution_count": 1,
   "metadata": {
    "colab": {
     "base_uri": "https://localhost:8080/"
    },
    "executionInfo": {
     "elapsed": 492,
     "status": "ok",
     "timestamp": 1604209947333,
     "user": {
      "displayName": "hit code",
      "photoUrl": "",
      "userId": "09141943501924995910"
     },
     "user_tz": 300
    },
    "id": "ZvwlqhRJ4I78",
    "outputId": "7a4670ef-f743-4d5e-cd2e-bc177a5ac99d"
   },
   "outputs": [
    {
     "name": "stdout",
     "output_type": "stream",
     "text": [
      "/content/drive/My Drive/BIO/dataset\n"
     ]
    }
   ],
   "source": [
    "# %cd /content/drive/My Drive/BIO\n",
    "%cd /content/drive/My Drive/BIO/dataset"
   ]
  },
  {
   "cell_type": "code",
   "execution_count": 2,
   "metadata": {
    "colab": {
     "base_uri": "https://localhost:8080/",
     "height": 35
    },
    "executionInfo": {
     "elapsed": 2828,
     "status": "ok",
     "timestamp": 1604209950652,
     "user": {
      "displayName": "hit code",
      "photoUrl": "",
      "userId": "09141943501924995910"
     },
     "user_tz": 300
    },
    "id": "anUZ8EHG4lW5",
    "outputId": "58bdb1c9-ec1c-4751-afad-c6aa55524715"
   },
   "outputs": [
    {
     "data": {
      "application/vnd.google.colaboratory.intrinsic+json": {
       "type": "string"
      },
      "text/plain": [
       "'/device:GPU:0'"
      ]
     },
     "execution_count": 2,
     "metadata": {
      "tags": []
     },
     "output_type": "execute_result"
    }
   ],
   "source": [
    "import tensorflow as tf\n",
    "device = tf.test.gpu_device_name()\n",
    "device"
   ]
  },
  {
   "cell_type": "code",
   "execution_count": 3,
   "metadata": {
    "executionInfo": {
     "elapsed": 2195,
     "status": "ok",
     "timestamp": 1604209950655,
     "user": {
      "displayName": "hit code",
      "photoUrl": "",
      "userId": "09141943501924995910"
     },
     "user_tz": 300
    },
    "id": "eV4LlexF4PBq"
   },
   "outputs": [],
   "source": [
    "from tensorflow.keras.preprocessing.image import ImageDataGenerator\n",
    "from keras.layers import Conv2D, MaxPool2D, Dense\n",
    "from keras.models import Model\n",
    "from keras import Input\n",
    "from keras.applications import VGG16\n",
    "\n",
    "from keras.optimizers import SGD\n",
    "from tensorflow.keras.optimizers import RMSprop\n",
    "from keras.optimizers import Adam\n",
    "\n",
    "import matplotlib.pyplot as plt"
   ]
  },
  {
   "cell_type": "code",
   "execution_count": 5,
   "metadata": {
    "executionInfo": {
     "elapsed": 438,
     "status": "ok",
     "timestamp": 1604209959689,
     "user": {
      "displayName": "hit code",
      "photoUrl": "",
      "userId": "09141943501924995910"
     },
     "user_tz": 300
    },
    "id": "AvxE3a9d4OIo"
   },
   "outputs": [],
   "source": [
    "carpeta_train='train_ii'\n",
    "carpeta_test='test_ii'\n",
    "carpeta_valid='valid_ii'"
   ]
  },
  {
   "cell_type": "code",
   "execution_count": 6,
   "metadata": {
    "executionInfo": {
     "elapsed": 383,
     "status": "ok",
     "timestamp": 1604209961919,
     "user": {
      "displayName": "hit code",
      "photoUrl": "",
      "userId": "09141943501924995910"
     },
     "user_tz": 300
    },
    "id": "2T4vw-9E4aIV"
   },
   "outputs": [],
   "source": [
    "'''\n",
    "train_data=ImageDataGenerator(\n",
    "    rescale=1./255,\n",
    "    rotation_range=25,\n",
    "    width_shift_range=0.2,\n",
    "    height_shift_range = 0.2,\n",
    "    zoom_range=0.25,\n",
    "    horizontal_flip=True,\n",
    "    fill_mode='nearest',\n",
    "    shear_range=0.2\n",
    ")\n",
    "'''\n",
    "train_data = ImageDataGenerator(1./255)\n",
    "test_data = ImageDataGenerator(1./255)\n",
    "valid_data = ImageDataGenerator(1./255)"
   ]
  },
  {
   "cell_type": "code",
   "execution_count": 9,
   "metadata": {
    "colab": {
     "base_uri": "https://localhost:8080/"
    },
    "executionInfo": {
     "elapsed": 644,
     "status": "ok",
     "timestamp": 1604210013186,
     "user": {
      "displayName": "hit code",
      "photoUrl": "",
      "userId": "09141943501924995910"
     },
     "user_tz": 300
    },
    "id": "RzMS1bFQ4f7D",
    "outputId": "637e1494-8bff-4fb0-f03f-9fb707e58330"
   },
   "outputs": [
    {
     "name": "stdout",
     "output_type": "stream",
     "text": [
      "Found 2152 images belonging to 2 classes.\n",
      "Found 430 images belonging to 2 classes.\n",
      "Found 289 images belonging to 2 classes.\n"
     ]
    }
   ],
   "source": [
    "train_generator = train_data.flow_from_directory(\n",
    "    carpeta_train,\n",
    "    target_size=(625, 500),\n",
    "    batch_size=32,\n",
    "    class_mode='categorical'\n",
    ")\n",
    "test_generator = test_data.flow_from_directory(\n",
    "    carpeta_test,\n",
    "    target_size=(625, 500),\n",
    "    batch_size=32,\n",
    "    class_mode='categorical'\n",
    ")\n",
    "valid_generator = valid_data.flow_from_directory(\n",
    "    carpeta_valid,\n",
    "    target_size=(625, 500),\n",
    "    batch_size=32,\n",
    "    class_mode='categorical'\n",
    ")"
   ]
  },
  {
   "cell_type": "code",
   "execution_count": 10,
   "metadata": {
    "executionInfo": {
     "elapsed": 577,
     "status": "ok",
     "timestamp": 1604210032797,
     "user": {
      "displayName": "hit code",
      "photoUrl": "",
      "userId": "09141943501924995910"
     },
     "user_tz": 300
    },
    "id": "kGJqaQ0V4hNZ"
   },
   "outputs": [],
   "source": [
    "vgg=VGG16(\n",
    "    weights='imagenet',\n",
    "    input_shape=(625, 500, 3),\n",
    "    include_top=False\n",
    ")"
   ]
  },
  {
   "cell_type": "code",
   "execution_count": 11,
   "metadata": {
    "colab": {
     "base_uri": "https://localhost:8080/"
    },
    "executionInfo": {
     "elapsed": 600,
     "status": "ok",
     "timestamp": 1604210041175,
     "user": {
      "displayName": "hit code",
      "photoUrl": "",
      "userId": "09141943501924995910"
     },
     "user_tz": 300
    },
    "id": "M-LsozeG46Ad",
    "outputId": "887e76af-b357-400f-9e00-fdb06b8bac47"
   },
   "outputs": [
    {
     "name": "stdout",
     "output_type": "stream",
     "text": [
      "Model: \"functional_1\"\n",
      "_________________________________________________________________\n",
      "Layer (type)                 Output Shape              Param #   \n",
      "=================================================================\n",
      "input_2 (InputLayer)         [(None, 625, 500, 3)]     0         \n",
      "_________________________________________________________________\n",
      "block1_conv1 (Conv2D)        (None, 625, 500, 64)      1792      \n",
      "_________________________________________________________________\n",
      "block1_conv2 (Conv2D)        (None, 625, 500, 64)      36928     \n",
      "_________________________________________________________________\n",
      "block1_pool (MaxPooling2D)   (None, 312, 250, 64)      0         \n",
      "_________________________________________________________________\n",
      "block2_conv1 (Conv2D)        (None, 312, 250, 128)     73856     \n",
      "_________________________________________________________________\n",
      "block2_conv2 (Conv2D)        (None, 312, 250, 128)     147584    \n",
      "_________________________________________________________________\n",
      "block2_pool (MaxPooling2D)   (None, 156, 125, 128)     0         \n",
      "_________________________________________________________________\n",
      "block3_conv1 (Conv2D)        (None, 156, 125, 256)     295168    \n",
      "_________________________________________________________________\n",
      "block3_conv2 (Conv2D)        (None, 156, 125, 256)     590080    \n",
      "_________________________________________________________________\n",
      "block3_conv3 (Conv2D)        (None, 156, 125, 256)     590080    \n",
      "_________________________________________________________________\n",
      "block3_pool (MaxPooling2D)   (None, 78, 62, 256)       0         \n",
      "_________________________________________________________________\n",
      "block4_conv1 (Conv2D)        (None, 78, 62, 512)       1180160   \n",
      "_________________________________________________________________\n",
      "block4_conv2 (Conv2D)        (None, 78, 62, 512)       2359808   \n",
      "_________________________________________________________________\n",
      "block4_conv3 (Conv2D)        (None, 78, 62, 512)       2359808   \n",
      "_________________________________________________________________\n",
      "block4_pool (MaxPooling2D)   (None, 39, 31, 512)       0         \n",
      "_________________________________________________________________\n",
      "block5_conv1 (Conv2D)        (None, 39, 31, 512)       2359808   \n",
      "_________________________________________________________________\n",
      "block5_conv2 (Conv2D)        (None, 39, 31, 512)       2359808   \n",
      "_________________________________________________________________\n",
      "block5_conv3 (Conv2D)        (None, 39, 31, 512)       2359808   \n",
      "_________________________________________________________________\n",
      "block5_pool (MaxPooling2D)   (None, 19, 15, 512)       0         \n",
      "_________________________________________________________________\n",
      "global_average_pooling2d (Gl (None, 512)               0         \n",
      "_________________________________________________________________\n",
      "predictions (Dense)          (None, 2)                 1026      \n",
      "=================================================================\n",
      "Total params: 14,715,714\n",
      "Trainable params: 14,715,714\n",
      "Non-trainable params: 0\n",
      "_________________________________________________________________\n"
     ]
    }
   ],
   "source": [
    "input_shape=(625, 500, 3)\n",
    "img_input = Input(shape=input_shape)\n",
    "\n",
    "base_model = VGG16(\n",
    "    include_top=False, \n",
    "    input_tensor=img_input, \n",
    "    input_shape=input_shape, \n",
    "    pooling=\"avg\",\n",
    "    weights='imagenet'\n",
    ")\n",
    "\n",
    "x = base_model.output\n",
    "predictions = Dense(2, activation=\"softmax\", name=\"predictions\")(x)\n",
    "model = Model(inputs=img_input, outputs=predictions)\n",
    "model.summary()"
   ]
  },
  {
   "cell_type": "code",
   "execution_count": 12,
   "metadata": {
    "executionInfo": {
     "elapsed": 438,
     "status": "ok",
     "timestamp": 1604210042845,
     "user": {
      "displayName": "hit code",
      "photoUrl": "",
      "userId": "09141943501924995910"
     },
     "user_tz": 300
    },
    "id": "4RQSc02z49EL"
   },
   "outputs": [],
   "source": [
    "opt = Adam(lr=0.0001)\n",
    "# opt = RMSprop(lr=1e-4)\n",
    "# opt = SGD(lr=0.001, momentum=0.9)\n",
    "model.compile(loss = \"categorical_crossentropy\", \n",
    "              optimizer = opt,\n",
    "              metrics=['accuracy'])"
   ]
  },
  {
   "cell_type": "code",
   "execution_count": 13,
   "metadata": {
    "colab": {
     "base_uri": "https://localhost:8080/"
    },
    "executionInfo": {
     "elapsed": 1121810,
     "status": "ok",
     "timestamp": 1604211170722,
     "user": {
      "displayName": "hit code",
      "photoUrl": "",
      "userId": "09141943501924995910"
     },
     "user_tz": 300
    },
    "id": "JEkYy_Lp5I4U",
    "outputId": "e1df0986-7313-41b8-8a94-c27f910a0654"
   },
   "outputs": [
    {
     "name": "stderr",
     "output_type": "stream",
     "text": [
      "/usr/local/lib/python3.6/dist-packages/keras_preprocessing/image/image_data_generator.py:720: UserWarning: This ImageDataGenerator specifies `featurewise_center`, but it hasn't been fit on any training data. Fit it first by calling `.fit(numpy_data)`.\n",
      "  warnings.warn('This ImageDataGenerator specifies '\n"
     ]
    },
    {
     "name": "stdout",
     "output_type": "stream",
     "text": [
      "Epoch 1/2\n",
      " 2/68 [..............................] - ETA: 1:50 - loss: 6.9129 - accuracy: 0.5000WARNING:tensorflow:Callbacks method `on_train_batch_end` is slow compared to the batch time (batch time: 0.8402s vs `on_train_batch_end` time: 2.4577s). Check your callbacks.\n",
      "68/68 [==============================] - 839s 12s/step - loss: 0.7860 - accuracy: 0.7198 - val_loss: 0.5803 - val_accuracy: 0.7326\n",
      "Epoch 2/2\n",
      "68/68 [==============================] - 243s 4s/step - loss: 0.5895 - accuracy: 0.7319 - val_loss: 0.5869 - val_accuracy: 0.7326\n"
     ]
    }
   ],
   "source": [
    "hitory = model.fit(\n",
    "    train_generator,\n",
    "    epochs=2,\n",
    "    validation_data=test_generator,\n",
    "    # validation_steps=3000\n",
    ")"
   ]
  },
  {
   "cell_type": "code",
   "execution_count": 15,
   "metadata": {
    "colab": {
     "base_uri": "https://localhost:8080/"
    },
    "executionInfo": {
     "elapsed": 195910,
     "status": "ok",
     "timestamp": 1604207625635,
     "user": {
      "displayName": "hit code",
      "photoUrl": "",
      "userId": "09141943501924995910"
     },
     "user_tz": 300
    },
    "id": "F6wdQ3meXLM7",
    "outputId": "1c91b6ac-ac2c-4053-e70a-ad7073f2ae2c"
   },
   "outputs": [
    {
     "name": "stderr",
     "output_type": "stream",
     "text": [
      "/usr/local/lib/python3.6/dist-packages/keras_preprocessing/image/image_data_generator.py:720: UserWarning: This ImageDataGenerator specifies `featurewise_center`, but it hasn't been fit on any training data. Fit it first by calling `.fit(numpy_data)`.\n",
      "  warnings.warn('This ImageDataGenerator specifies '\n"
     ]
    },
    {
     "name": "stdout",
     "output_type": "stream",
     "text": [
      "Loss:  3.0116865634918213 Accuracy:  0.7266436219215393\n",
      "> 72.664\n"
     ]
    }
   ],
   "source": [
    "# evaluar modelo\n",
    "acc = model.evaluate_generator(valid_generator)\n",
    "print(\"Loss: \", acc[0], \"Accuracy: \", acc[1])\n",
    "print('> %.3f' % (acc[1] * 100.0))"
   ]
  },
  {
   "cell_type": "code",
   "execution_count": 16,
   "metadata": {
    "colab": {
     "base_uri": "https://localhost:8080/",
     "height": 295
    },
    "executionInfo": {
     "elapsed": 1023,
     "status": "ok",
     "timestamp": 1604207781867,
     "user": {
      "displayName": "hit code",
      "photoUrl": "",
      "userId": "09141943501924995910"
     },
     "user_tz": 300
    },
    "id": "Qqdjg9Pi5Xxi",
    "outputId": "4bde2044-9c2b-439c-8a21-fe87d967a132"
   },
   "outputs": [
    {
     "data": {
      "image/png": "[encoded data removed]",
      "text/plain": [
       "<Figure size 432x288 with 1 Axes>"
      ]
     },
     "metadata": {
      "needs_background": "light",
      "tags": []
     },
     "output_type": "display_data"
    }
   ],
   "source": [
    "plt.plot(hitory.history[\"accuracy\"])\n",
    "plt.plot(hitory.history['loss'])\n",
    "plt.title(\"model accuracy\")\n",
    "plt.ylabel(\"Accuracy\")\n",
    "plt.xlabel(\"Epoch\")\n",
    "plt.legend([\"Accuracy\",\"Validation Accuracy\",\"loss\",\"Validation Loss\"])\n",
    "plt.show()"
   ]
  },
  {
   "cell_type": "code",
   "execution_count": 14,
   "metadata": {
    "executionInfo": {
     "elapsed": 481,
     "status": "ok",
     "timestamp": 1604176875642,
     "user": {
      "displayName": "hit code",
      "photoUrl": "",
      "userId": "09141943501924995910"
     },
     "user_tz": 300
    },
    "id": "V9bsehtuXubV"
   },
   "outputs": [],
   "source": [
    "model.save_weights(\"48_epochs_weights_v1.h5\")"
   ]
  },
  {
   "cell_type": "code",
   "execution_count": 18,
   "metadata": {
    "executionInfo": {
     "elapsed": 461,
     "status": "ok",
     "timestamp": 1604208339989,
     "user": {
      "displayName": "hit code",
      "photoUrl": "",
      "userId": "09141943501924995910"
     },
     "user_tz": 300
    },
    "id": "7g8hc1s5YWz6"
   },
   "outputs": [],
   "source": [
    "from glob import glob"
   ]
  },
  {
   "cell_type": "code",
   "execution_count": 20,
   "metadata": {
    "colab": {
     "base_uri": "https://localhost:8080/"
    },
    "executionInfo": {
     "elapsed": 424,
     "status": "ok",
     "timestamp": 1604208358680,
     "user": {
      "displayName": "hit code",
      "photoUrl": "",
      "userId": "09141943501924995910"
     },
     "user_tz": 300
    },
    "id": "igKPeyRPRHz2",
    "outputId": "5e573419-2be5-411f-832f-7a8085e56061"
   },
   "outputs": [
    {
     "data": {
      "text/plain": [
       "2152"
      ]
     },
     "execution_count": 20,
     "metadata": {
      "tags": []
     },
     "output_type": "execute_result"
    }
   ],
   "source": [
    "len(glob(\"train_i/*/*\"))"
   ]
  },
  {
   "cell_type": "code",
   "execution_count": null,
   "metadata": {
    "id": "PYXlNQYuRNh-"
   },
   "outputs": [],
   "source": []
  }
 ],
 "metadata": {
  "accelerator": "GPU",
  "colab": {
   "authorship_tag": "ABX9TyPGp1xGNSqoOHa+mRQXVeQI",
   "collapsed_sections": [],
   "mount_file_id": "1BvoX7kj6rhPSI_CwtOvDWuWLPJctI5Hr",
   "name": "model_final.ipynb",
   "provenance": []
  },
  "kernelspec": {
   "display_name": "Python 3",
   "language": "python",
   "name": "python3"
  },
  "language_info": {
   "codemirror_mode": {
    "name": "ipython",
    "version": 3
   },
   "file_extension": ".py",
   "mimetype": "text/x-python",
   "name": "python",
   "nbconvert_exporter": "python",
   "pygments_lexer": "ipython3",
   "version": "3.8.5"
  }
 },
 "nbformat": 4,
 "nbformat_minor": 1
}
