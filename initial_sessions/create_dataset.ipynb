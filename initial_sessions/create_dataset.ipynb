{
 "cells": [
  {
   "cell_type": "code",
   "execution_count": 2,
   "metadata": {
    "colab": {
     "base_uri": "https://localhost:8080/",
     "height": 34
    },
    "colab_type": "code",
    "executionInfo": {
     "elapsed": 1359,
     "status": "ok",
     "timestamp": 1599677801476,
     "user": {
      "displayName": "hit code",
      "photoUrl": "",
      "userId": "09141943501924995910"
     },
     "user_tz": 300
    },
    "id": "wDjQvs8FOE1A",
    "outputId": "8867f127-eefe-4782-8dfd-91e4fd582387"
   },
   "outputs": [
    {
     "name": "stdout",
     "output_type": "stream",
     "text": [
      "/content/drive/My Drive/BIO/dataset\n"
     ]
    }
   ],
   "source": [
    "%cd /content/drive/My Drive/BIO/dataset"
   ]
  },
  {
   "cell_type": "code",
   "execution_count": 3,
   "metadata": {
    "colab": {},
    "colab_type": "code",
    "executionInfo": {
     "elapsed": 2804,
     "status": "ok",
     "timestamp": 1599677822212,
     "user": {
      "displayName": "hit code",
      "photoUrl": "",
      "userId": "09141943501924995910"
     },
     "user_tz": 300
    },
    "id": "-W9RgO1WOaQS"
   },
   "outputs": [],
   "source": [
    "import pandas as pd"
   ]
  },
  {
   "cell_type": "code",
   "execution_count": 6,
   "metadata": {
    "colab": {
     "base_uri": "https://localhost:8080/",
     "height": 526
    },
    "colab_type": "code",
    "executionInfo": {
     "elapsed": 761,
     "status": "ok",
     "timestamp": 1599677874822,
     "user": {
      "displayName": "hit code",
      "photoUrl": "",
      "userId": "09141943501924995910"
     },
     "user_tz": 300
    },
    "id": "G8BRRfh-Ok-z",
    "outputId": "e5fbcecd-9835-47f8-a8f7-3cc01ac94de4"
   },
   "outputs": [
    {
     "data": {
      "text/html": [
       "<div>\n",
       "<style scoped>\n",
       "    .dataframe tbody tr th:only-of-type {\n",
       "        vertical-align: middle;\n",
       "    }\n",
       "\n",
       "    .dataframe tbody tr th {\n",
       "        vertical-align: top;\n",
       "    }\n",
       "\n",
       "    .dataframe thead th {\n",
       "        text-align: right;\n",
       "    }\n",
       "</style>\n",
       "<table border=\"1\" class=\"dataframe\">\n",
       "  <thead>\n",
       "    <tr style=\"text-align: right;\">\n",
       "      <th></th>\n",
       "      <th>Image Index</th>\n",
       "      <th>Finding Labels</th>\n",
       "      <th>Follow-up #</th>\n",
       "      <th>Patient ID</th>\n",
       "      <th>Patient Age</th>\n",
       "      <th>Patient Gender</th>\n",
       "      <th>View Position</th>\n",
       "      <th>OriginalImage[Width</th>\n",
       "      <th>Height]</th>\n",
       "      <th>OriginalImagePixelSpacing[x</th>\n",
       "      <th>y]</th>\n",
       "      <th>direccion</th>\n",
       "    </tr>\n",
       "  </thead>\n",
       "  <tbody>\n",
       "    <tr>\n",
       "      <th>0</th>\n",
       "      <td>00000013_024.png</td>\n",
       "      <td>Mass</td>\n",
       "      <td>24</td>\n",
       "      <td>13</td>\n",
       "      <td>57</td>\n",
       "      <td>M</td>\n",
       "      <td>AP</td>\n",
       "      <td>2500</td>\n",
       "      <td>2048</td>\n",
       "      <td>0.168</td>\n",
       "      <td>0.168</td>\n",
       "      <td>images_001/images/00000013_024.png</td>\n",
       "    </tr>\n",
       "    <tr>\n",
       "      <th>1</th>\n",
       "      <td>00000061_001.png</td>\n",
       "      <td>Mass</td>\n",
       "      <td>1</td>\n",
       "      <td>61</td>\n",
       "      <td>77</td>\n",
       "      <td>M</td>\n",
       "      <td>PA</td>\n",
       "      <td>2530</td>\n",
       "      <td>2717</td>\n",
       "      <td>0.143</td>\n",
       "      <td>0.143</td>\n",
       "      <td>images_001/images/00000061_001.png</td>\n",
       "    </tr>\n",
       "    <tr>\n",
       "      <th>2</th>\n",
       "      <td>00000071_008.png</td>\n",
       "      <td>Mass</td>\n",
       "      <td>8</td>\n",
       "      <td>71</td>\n",
       "      <td>69</td>\n",
       "      <td>F</td>\n",
       "      <td>PA</td>\n",
       "      <td>2048</td>\n",
       "      <td>2500</td>\n",
       "      <td>0.168</td>\n",
       "      <td>0.168</td>\n",
       "      <td>images_001/images/00000071_008.png</td>\n",
       "    </tr>\n",
       "    <tr>\n",
       "      <th>3</th>\n",
       "      <td>00000079_000.png</td>\n",
       "      <td>Mass</td>\n",
       "      <td>0</td>\n",
       "      <td>79</td>\n",
       "      <td>63</td>\n",
       "      <td>M</td>\n",
       "      <td>PA</td>\n",
       "      <td>2500</td>\n",
       "      <td>2048</td>\n",
       "      <td>0.168</td>\n",
       "      <td>0.168</td>\n",
       "      <td>images_001/images/00000079_000.png</td>\n",
       "    </tr>\n",
       "    <tr>\n",
       "      <th>4</th>\n",
       "      <td>00000091_003.png</td>\n",
       "      <td>Mass</td>\n",
       "      <td>3</td>\n",
       "      <td>91</td>\n",
       "      <td>69</td>\n",
       "      <td>M</td>\n",
       "      <td>PA</td>\n",
       "      <td>2910</td>\n",
       "      <td>2991</td>\n",
       "      <td>0.143</td>\n",
       "      <td>0.143</td>\n",
       "      <td>images_001/images/00000091_003.png</td>\n",
       "    </tr>\n",
       "    <tr>\n",
       "      <th>...</th>\n",
       "      <td>...</td>\n",
       "      <td>...</td>\n",
       "      <td>...</td>\n",
       "      <td>...</td>\n",
       "      <td>...</td>\n",
       "      <td>...</td>\n",
       "      <td>...</td>\n",
       "      <td>...</td>\n",
       "      <td>...</td>\n",
       "      <td>...</td>\n",
       "      <td>...</td>\n",
       "      <td>...</td>\n",
       "    </tr>\n",
       "    <tr>\n",
       "      <th>68352</th>\n",
       "      <td>00030801_000.png</td>\n",
       "      <td>No Finding</td>\n",
       "      <td>0</td>\n",
       "      <td>30801</td>\n",
       "      <td>39</td>\n",
       "      <td>M</td>\n",
       "      <td>PA</td>\n",
       "      <td>2500</td>\n",
       "      <td>2048</td>\n",
       "      <td>0.168</td>\n",
       "      <td>0.168</td>\n",
       "      <td>images_012/images/00030801_000.png</td>\n",
       "    </tr>\n",
       "    <tr>\n",
       "      <th>68353</th>\n",
       "      <td>00030802_000.png</td>\n",
       "      <td>No Finding</td>\n",
       "      <td>0</td>\n",
       "      <td>30802</td>\n",
       "      <td>29</td>\n",
       "      <td>M</td>\n",
       "      <td>PA</td>\n",
       "      <td>2048</td>\n",
       "      <td>2500</td>\n",
       "      <td>0.168</td>\n",
       "      <td>0.168</td>\n",
       "      <td>images_012/images/00030802_000.png</td>\n",
       "    </tr>\n",
       "    <tr>\n",
       "      <th>68354</th>\n",
       "      <td>00030803_000.png</td>\n",
       "      <td>No Finding</td>\n",
       "      <td>0</td>\n",
       "      <td>30803</td>\n",
       "      <td>42</td>\n",
       "      <td>F</td>\n",
       "      <td>PA</td>\n",
       "      <td>2048</td>\n",
       "      <td>2500</td>\n",
       "      <td>0.168</td>\n",
       "      <td>0.168</td>\n",
       "      <td>images_012/images/00030803_000.png</td>\n",
       "    </tr>\n",
       "    <tr>\n",
       "      <th>68355</th>\n",
       "      <td>00030804_000.png</td>\n",
       "      <td>No Finding</td>\n",
       "      <td>0</td>\n",
       "      <td>30804</td>\n",
       "      <td>30</td>\n",
       "      <td>F</td>\n",
       "      <td>PA</td>\n",
       "      <td>2048</td>\n",
       "      <td>2500</td>\n",
       "      <td>0.168</td>\n",
       "      <td>0.168</td>\n",
       "      <td>images_012/images/00030804_000.png</td>\n",
       "    </tr>\n",
       "    <tr>\n",
       "      <th>68356</th>\n",
       "      <td>00030805_000.png</td>\n",
       "      <td>No Finding</td>\n",
       "      <td>0</td>\n",
       "      <td>30805</td>\n",
       "      <td>27</td>\n",
       "      <td>M</td>\n",
       "      <td>PA</td>\n",
       "      <td>2048</td>\n",
       "      <td>2500</td>\n",
       "      <td>0.171</td>\n",
       "      <td>0.171</td>\n",
       "      <td>images_012/images/00030805_000.png</td>\n",
       "    </tr>\n",
       "  </tbody>\n",
       "</table>\n",
       "<p>68357 rows × 12 columns</p>\n",
       "</div>"
      ],
      "text/plain": [
       "            Image Index  ...                           direccion\n",
       "0      00000013_024.png  ...  images_001/images/00000013_024.png\n",
       "1      00000061_001.png  ...  images_001/images/00000061_001.png\n",
       "2      00000071_008.png  ...  images_001/images/00000071_008.png\n",
       "3      00000079_000.png  ...  images_001/images/00000079_000.png\n",
       "4      00000091_003.png  ...  images_001/images/00000091_003.png\n",
       "...                 ...  ...                                 ...\n",
       "68352  00030801_000.png  ...  images_012/images/00030801_000.png\n",
       "68353  00030802_000.png  ...  images_012/images/00030802_000.png\n",
       "68354  00030803_000.png  ...  images_012/images/00030803_000.png\n",
       "68355  00030804_000.png  ...  images_012/images/00030804_000.png\n",
       "68356  00030805_000.png  ...  images_012/images/00030805_000.png\n",
       "\n",
       "[68357 rows x 12 columns]"
      ]
     },
     "execution_count": 6,
     "metadata": {
      "tags": []
     },
     "output_type": "execute_result"
    }
   ],
   "source": [
    "df = pd.read_csv(\"/content/drive/My Drive/BIO/target_diseases.csv\", sep=';').drop(columns=['Unnamed: 11'])\n",
    "df"
   ]
  },
  {
   "cell_type": "code",
   "execution_count": 7,
   "metadata": {
    "colab": {},
    "colab_type": "code",
    "executionInfo": {
     "elapsed": 472,
     "status": "ok",
     "timestamp": 1599677893341,
     "user": {
      "displayName": "hit code",
      "photoUrl": "",
      "userId": "09141943501924995910"
     },
     "user_tz": 300
    },
    "id": "TgBLdk5uOsWT"
   },
   "outputs": [],
   "source": [
    "import os"
   ]
  },
  {
   "cell_type": "code",
   "execution_count": 11,
   "metadata": {
    "colab": {
     "base_uri": "https://localhost:8080/",
     "height": 34
    },
    "colab_type": "code",
    "executionInfo": {
     "elapsed": 461,
     "status": "ok",
     "timestamp": 1599677924748,
     "user": {
      "displayName": "hit code",
      "photoUrl": "",
      "userId": "09141943501924995910"
     },
     "user_tz": 300
    },
    "id": "z2ATf8CiO4jD",
    "outputId": "c00a3e7a-e64f-4e2e-8252-bfa33cde5b14"
   },
   "outputs": [
    {
     "data": {
      "text/plain": [
       "0"
      ]
     },
     "execution_count": 11,
     "metadata": {
      "tags": []
     },
     "output_type": "execute_result"
    }
   ],
   "source": [
    "len(os.listdir(\"../Mass\"))"
   ]
  },
  {
   "cell_type": "code",
   "execution_count": 12,
   "metadata": {
    "colab": {},
    "colab_type": "code",
    "executionInfo": {
     "elapsed": 487,
     "status": "ok",
     "timestamp": 1599678047762,
     "user": {
      "displayName": "hit code",
      "photoUrl": "",
      "userId": "09141943501924995910"
     },
     "user_tz": 300
    },
    "id": "8Pm0_TZoO6Kx"
   },
   "outputs": [],
   "source": [
    "enf = ['Mass', 'Nodule', 'Consolidation', 'Edema', 'Pneumonia', 'Enphysema', 'No Finding Labels']\n",
    "df2 = df[df['Finding Labels']==enf[0]]\n",
    "df3 = df[df['Finding Labels']==enf[1]]\n",
    "df4 = df[df['Finding Labels']==enf[2]]\n",
    "df5 = df[df['Finding Labels']==enf[3]]\n",
    "df6 = df[df['Finding Labels']==enf[4]]\n",
    "df7 = df[df['Finding Labels']==enf[5]]\n",
    "df8 = df[df['Finding Labels']==enf[6]]"
   ]
  },
  {
   "cell_type": "code",
   "execution_count": 13,
   "metadata": {
    "colab": {
     "base_uri": "https://localhost:8080/",
     "height": 443
    },
    "colab_type": "code",
    "executionInfo": {
     "elapsed": 472,
     "status": "ok",
     "timestamp": 1599678052043,
     "user": {
      "displayName": "hit code",
      "photoUrl": "",
      "userId": "09141943501924995910"
     },
     "user_tz": 300
    },
    "id": "kB7T9dl5PePb",
    "outputId": "e695e29b-c047-4d47-cf91-11ea628c4534"
   },
   "outputs": [
    {
     "data": {
      "text/html": [
       "<div>\n",
       "<style scoped>\n",
       "    .dataframe tbody tr th:only-of-type {\n",
       "        vertical-align: middle;\n",
       "    }\n",
       "\n",
       "    .dataframe tbody tr th {\n",
       "        vertical-align: top;\n",
       "    }\n",
       "\n",
       "    .dataframe thead th {\n",
       "        text-align: right;\n",
       "    }\n",
       "</style>\n",
       "<table border=\"1\" class=\"dataframe\">\n",
       "  <thead>\n",
       "    <tr style=\"text-align: right;\">\n",
       "      <th></th>\n",
       "      <th>Image Index</th>\n",
       "      <th>Finding Labels</th>\n",
       "      <th>Follow-up #</th>\n",
       "      <th>Patient ID</th>\n",
       "      <th>Patient Age</th>\n",
       "      <th>Patient Gender</th>\n",
       "      <th>View Position</th>\n",
       "      <th>OriginalImage[Width</th>\n",
       "      <th>Height]</th>\n",
       "      <th>OriginalImagePixelSpacing[x</th>\n",
       "      <th>y]</th>\n",
       "      <th>direccion</th>\n",
       "    </tr>\n",
       "  </thead>\n",
       "  <tbody>\n",
       "    <tr>\n",
       "      <th>0</th>\n",
       "      <td>00000013_024.png</td>\n",
       "      <td>Mass</td>\n",
       "      <td>24</td>\n",
       "      <td>13</td>\n",
       "      <td>57</td>\n",
       "      <td>M</td>\n",
       "      <td>AP</td>\n",
       "      <td>2500</td>\n",
       "      <td>2048</td>\n",
       "      <td>0.168000</td>\n",
       "      <td>0.168000</td>\n",
       "      <td>images_001/images/00000013_024.png</td>\n",
       "    </tr>\n",
       "    <tr>\n",
       "      <th>1</th>\n",
       "      <td>00000061_001.png</td>\n",
       "      <td>Mass</td>\n",
       "      <td>1</td>\n",
       "      <td>61</td>\n",
       "      <td>77</td>\n",
       "      <td>M</td>\n",
       "      <td>PA</td>\n",
       "      <td>2530</td>\n",
       "      <td>2717</td>\n",
       "      <td>0.143000</td>\n",
       "      <td>0.143000</td>\n",
       "      <td>images_001/images/00000061_001.png</td>\n",
       "    </tr>\n",
       "    <tr>\n",
       "      <th>2</th>\n",
       "      <td>00000071_008.png</td>\n",
       "      <td>Mass</td>\n",
       "      <td>8</td>\n",
       "      <td>71</td>\n",
       "      <td>69</td>\n",
       "      <td>F</td>\n",
       "      <td>PA</td>\n",
       "      <td>2048</td>\n",
       "      <td>2500</td>\n",
       "      <td>0.168000</td>\n",
       "      <td>0.168000</td>\n",
       "      <td>images_001/images/00000071_008.png</td>\n",
       "    </tr>\n",
       "    <tr>\n",
       "      <th>3</th>\n",
       "      <td>00000079_000.png</td>\n",
       "      <td>Mass</td>\n",
       "      <td>0</td>\n",
       "      <td>79</td>\n",
       "      <td>63</td>\n",
       "      <td>M</td>\n",
       "      <td>PA</td>\n",
       "      <td>2500</td>\n",
       "      <td>2048</td>\n",
       "      <td>0.168000</td>\n",
       "      <td>0.168000</td>\n",
       "      <td>images_001/images/00000079_000.png</td>\n",
       "    </tr>\n",
       "    <tr>\n",
       "      <th>4</th>\n",
       "      <td>00000091_003.png</td>\n",
       "      <td>Mass</td>\n",
       "      <td>3</td>\n",
       "      <td>91</td>\n",
       "      <td>69</td>\n",
       "      <td>M</td>\n",
       "      <td>PA</td>\n",
       "      <td>2910</td>\n",
       "      <td>2991</td>\n",
       "      <td>0.143000</td>\n",
       "      <td>0.143000</td>\n",
       "      <td>images_001/images/00000091_003.png</td>\n",
       "    </tr>\n",
       "    <tr>\n",
       "      <th>...</th>\n",
       "      <td>...</td>\n",
       "      <td>...</td>\n",
       "      <td>...</td>\n",
       "      <td>...</td>\n",
       "      <td>...</td>\n",
       "      <td>...</td>\n",
       "      <td>...</td>\n",
       "      <td>...</td>\n",
       "      <td>...</td>\n",
       "      <td>...</td>\n",
       "      <td>...</td>\n",
       "      <td>...</td>\n",
       "    </tr>\n",
       "    <tr>\n",
       "      <th>2134</th>\n",
       "      <td>00030206_006.png</td>\n",
       "      <td>Mass</td>\n",
       "      <td>6</td>\n",
       "      <td>30206</td>\n",
       "      <td>46</td>\n",
       "      <td>F</td>\n",
       "      <td>AP</td>\n",
       "      <td>3056</td>\n",
       "      <td>2544</td>\n",
       "      <td>0.139000</td>\n",
       "      <td>0.139000</td>\n",
       "      <td>images_012/images/00030206_006.png</td>\n",
       "    </tr>\n",
       "    <tr>\n",
       "      <th>2135</th>\n",
       "      <td>00030389_000.png</td>\n",
       "      <td>Mass</td>\n",
       "      <td>0</td>\n",
       "      <td>30389</td>\n",
       "      <td>30</td>\n",
       "      <td>F</td>\n",
       "      <td>PA</td>\n",
       "      <td>2021</td>\n",
       "      <td>2021</td>\n",
       "      <td>0.194314</td>\n",
       "      <td>0.194314</td>\n",
       "      <td>images_012/images/00030389_000.png</td>\n",
       "    </tr>\n",
       "    <tr>\n",
       "      <th>2136</th>\n",
       "      <td>00030594_000.png</td>\n",
       "      <td>Mass</td>\n",
       "      <td>0</td>\n",
       "      <td>30594</td>\n",
       "      <td>72</td>\n",
       "      <td>M</td>\n",
       "      <td>PA</td>\n",
       "      <td>2022</td>\n",
       "      <td>2022</td>\n",
       "      <td>0.194311</td>\n",
       "      <td>0.194311</td>\n",
       "      <td>images_012/images/00030594_000.png</td>\n",
       "    </tr>\n",
       "    <tr>\n",
       "      <th>2137</th>\n",
       "      <td>00030682_000.png</td>\n",
       "      <td>Mass</td>\n",
       "      <td>0</td>\n",
       "      <td>30682</td>\n",
       "      <td>79</td>\n",
       "      <td>F</td>\n",
       "      <td>PA</td>\n",
       "      <td>2021</td>\n",
       "      <td>2021</td>\n",
       "      <td>0.194311</td>\n",
       "      <td>0.194311</td>\n",
       "      <td>images_012/images/00030682_000.png</td>\n",
       "    </tr>\n",
       "    <tr>\n",
       "      <th>2138</th>\n",
       "      <td>00030753_011.png</td>\n",
       "      <td>Mass</td>\n",
       "      <td>11</td>\n",
       "      <td>30753</td>\n",
       "      <td>54</td>\n",
       "      <td>F</td>\n",
       "      <td>AP</td>\n",
       "      <td>3056</td>\n",
       "      <td>2544</td>\n",
       "      <td>0.139000</td>\n",
       "      <td>0.139000</td>\n",
       "      <td>images_012/images/00030753_011.png</td>\n",
       "    </tr>\n",
       "  </tbody>\n",
       "</table>\n",
       "<p>2139 rows × 12 columns</p>\n",
       "</div>"
      ],
      "text/plain": [
       "           Image Index  ...                           direccion\n",
       "0     00000013_024.png  ...  images_001/images/00000013_024.png\n",
       "1     00000061_001.png  ...  images_001/images/00000061_001.png\n",
       "2     00000071_008.png  ...  images_001/images/00000071_008.png\n",
       "3     00000079_000.png  ...  images_001/images/00000079_000.png\n",
       "4     00000091_003.png  ...  images_001/images/00000091_003.png\n",
       "...                ...  ...                                 ...\n",
       "2134  00030206_006.png  ...  images_012/images/00030206_006.png\n",
       "2135  00030389_000.png  ...  images_012/images/00030389_000.png\n",
       "2136  00030594_000.png  ...  images_012/images/00030594_000.png\n",
       "2137  00030682_000.png  ...  images_012/images/00030682_000.png\n",
       "2138  00030753_011.png  ...  images_012/images/00030753_011.png\n",
       "\n",
       "[2139 rows x 12 columns]"
      ]
     },
     "execution_count": 13,
     "metadata": {
      "tags": []
     },
     "output_type": "execute_result"
    }
   ],
   "source": [
    "df2"
   ]
  },
  {
   "cell_type": "code",
   "execution_count": 14,
   "metadata": {
    "colab": {
     "base_uri": "https://localhost:8080/",
     "height": 158
    },
    "colab_type": "code",
    "executionInfo": {
     "elapsed": 539,
     "status": "ok",
     "timestamp": 1599678824578,
     "user": {
      "displayName": "hit code",
      "photoUrl": "",
      "userId": "09141943501924995910"
     },
     "user_tz": 300
    },
    "id": "uVwoBnMTPfRU",
    "outputId": "0c093f87-0fcd-46f3-8b40-e4f2ab5ef8b7"
   },
   "outputs": [
    {
     "data": {
      "text/plain": [
       "No Finding       60361\n",
       "Nodule            2705\n",
       "Mass              2139\n",
       "Consolidation     1310\n",
       "Emphysema          892\n",
       "Edema              628\n",
       "Pneumonia          322\n",
       "Name: Finding Labels, dtype: int64"
      ]
     },
     "execution_count": 14,
     "metadata": {
      "tags": []
     },
     "output_type": "execute_result"
    }
   ],
   "source": [
    "df['Finding Labels'].value_counts()"
   ]
  },
  {
   "cell_type": "code",
   "execution_count": null,
   "metadata": {
    "colab": {},
    "colab_type": "code",
    "id": "78rxesdGSb3t"
   },
   "outputs": [],
   "source": []
  }
 ],
 "metadata": {
  "colab": {
   "authorship_tag": "ABX9TyP/vgPEEVOVDJWewXYp9dbg",
   "mount_file_id": "19g3kYYP-_OMGLLtgJsi2YUhawmpdk-Em",
   "name": "create_dataset.ipynb",
   "provenance": []
  },
  "kernelspec": {
   "display_name": "Python 3",
   "language": "python",
   "name": "python3"
  },
  "language_info": {
   "codemirror_mode": {
    "name": "ipython",
    "version": 3
   },
   "file_extension": ".py",
   "mimetype": "text/x-python",
   "name": "python",
   "nbconvert_exporter": "python",
   "pygments_lexer": "ipython3",
   "version": "3.8.5"
  }
 },
 "nbformat": 4,
 "nbformat_minor": 1
}
