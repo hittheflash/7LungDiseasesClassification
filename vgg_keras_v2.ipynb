{
 "cells": [
  {
   "cell_type": "code",
   "execution_count": null,
   "metadata": {
    "colab": {
     "base_uri": "https://localhost:8080/"
    },
    "executionInfo": {
     "elapsed": 548,
     "status": "ok",
     "timestamp": 1605275532789,
     "user": {
      "displayName": "hit code",
      "photoUrl": "",
      "userId": "09141943501924995910"
     },
     "user_tz": 300
    },
    "id": "VRJI5yVtWa3i",
    "outputId": "2fd87e67-971e-4333-acd1-7e8c8843872a"
   },
   "outputs": [
    {
     "name": "stdout",
     "output_type": "stream",
     "text": [
      "/content/drive/My Drive/BIO/xrays\n"
     ]
    }
   ],
   "source": [
    "%cd /content/drive/My Drive/BIO/xrays"
   ]
  },
  {
   "cell_type": "code",
   "execution_count": null,
   "metadata": {
    "colab": {
     "base_uri": "https://localhost:8080/"
    },
    "executionInfo": {
     "elapsed": 341,
     "status": "ok",
     "timestamp": 1605275533016,
     "user": {
      "displayName": "hit code",
      "photoUrl": "",
      "userId": "09141943501924995910"
     },
     "user_tz": 300
    },
    "id": "0Dz3X4QNW3gX",
    "outputId": "5a8110de-700a-4313-8061-18dc2256dd24"
   },
   "outputs": [
    {
     "name": "stdout",
     "output_type": "stream",
     "text": [
      "Fri Nov 13 13:52:13 2020       \n",
      "+-----------------------------------------------------------------------------+\n",
      "| NVIDIA-SMI 455.32.00    Driver Version: 418.67       CUDA Version: 10.1     |\n",
      "|-------------------------------+----------------------+----------------------+\n",
      "| GPU  Name        Persistence-M| Bus-Id        Disp.A | Volatile Uncorr. ECC |\n",
      "| Fan  Temp  Perf  Pwr:Usage/Cap|         Memory-Usage | GPU-Util  Compute M. |\n",
      "|                               |                      |               MIG M. |\n",
      "|===============================+======================+======================|\n",
      "|   0  Tesla T4            Off  | 00000000:00:04.0 Off |                    0 |\n",
      "| N/A   72C    P0    31W /  70W |      0MiB / 15079MiB |      0%      Default |\n",
      "|                               |                      |                 ERR! |\n",
      "+-------------------------------+----------------------+----------------------+\n",
      "                                                                               \n",
      "+-----------------------------------------------------------------------------+\n",
      "| Processes:                                                                  |\n",
      "|  GPU   GI   CI        PID   Type   Process name                  GPU Memory |\n",
      "|        ID   ID                                                   Usage      |\n",
      "|=============================================================================|\n",
      "|  No running processes found                                                 |\n",
      "+-----------------------------------------------------------------------------+\n"
     ]
    }
   ],
   "source": [
    "!nvidia-smi"
   ]
  },
  {
   "cell_type": "code",
   "execution_count": null,
   "metadata": {
    "colab": {
     "base_uri": "https://localhost:8080/",
     "height": 35
    },
    "executionInfo": {
     "elapsed": 3790,
     "status": "ok",
     "timestamp": 1605275536943,
     "user": {
      "displayName": "hit code",
      "photoUrl": "",
      "userId": "09141943501924995910"
     },
     "user_tz": 300
    },
    "id": "vzdg7UnCW9J5",
    "outputId": "2b8b5df1-2d03-4985-c087-259bde6b388b"
   },
   "outputs": [
    {
     "data": {
      "application/vnd.google.colaboratory.intrinsic+json": {
       "type": "string"
      },
      "text/plain": [
       "'/device:GPU:0'"
      ]
     },
     "execution_count": 3,
     "metadata": {
      "tags": []
     },
     "output_type": "execute_result"
    }
   ],
   "source": [
    "import tensorflow as tf\n",
    "device = tf.test.gpu_device_name()\n",
    "device"
   ]
  },
  {
   "cell_type": "code",
   "execution_count": null,
   "metadata": {
    "id": "1AdbJNdLXFuV"
   },
   "outputs": [],
   "source": [
    "import keras,os\n",
    "from keras.models import Sequential\n",
    "from keras.layers import Dense, Conv2D, MaxPool2D, Flatten, BatchNormalization, MaxPooling2D, Dropout\n",
    "from keras.optimizers import SGD, Adam\n",
    "from keras.preprocessing.image import ImageDataGenerator\n",
    "import numpy as np\n",
    "\n",
    "import matplotlib.pyplot as plt"
   ]
  },
  {
   "cell_type": "code",
   "execution_count": null,
   "metadata": {
    "colab": {
     "base_uri": "https://localhost:8080/"
    },
    "executionInfo": {
     "elapsed": 2631,
     "status": "ok",
     "timestamp": 1605275536945,
     "user": {
      "displayName": "hit code",
      "photoUrl": "",
      "userId": "09141943501924995910"
     },
     "user_tz": 300
    },
    "id": "Up8n89EtXJot",
    "outputId": "6689ef80-6bbe-4e41-ad4c-6672e4f4b43c"
   },
   "outputs": [
    {
     "name": "stdout",
     "output_type": "stream",
     "text": [
      "imgs\t\t    test_mass\t\t train_emphysema  valid_consolidation\n",
      "models\t\t    test_nodule\t\t train_mass\t  valid_edema\n",
      "test_all\t    test_pneumonia\t train_nodule\t  valid_emphysema\n",
      "test_consolidation  train_all\t\t train_pneumonia  valid_mass\n",
      "test_edema\t    train_consolidation  Untitled0.ipynb  valid_nodule\n",
      "test_emphysema\t    train_edema\t\t valid_all\t  valid_pneumonia\n"
     ]
    }
   ],
   "source": [
    "!ls"
   ]
  },
  {
   "cell_type": "code",
   "execution_count": null,
   "metadata": {
    "id": "f7dalIqUfp1w"
   },
   "outputs": [],
   "source": [
    "dis = \"nodule\""
   ]
  },
  {
   "cell_type": "code",
   "execution_count": null,
   "metadata": {
    "colab": {
     "base_uri": "https://localhost:8080/"
    },
    "executionInfo": {
     "elapsed": 69632,
     "status": "ok",
     "timestamp": 1605275613025,
     "user": {
      "displayName": "hit code",
      "photoUrl": "",
      "userId": "09141943501924995910"
     },
     "user_tz": 300
    },
    "id": "7fcrQgrLXHHs",
    "outputId": "97bbf4c6-c6ac-4a2b-9ce2-ee9aca164aa2"
   },
   "outputs": [
    {
     "name": "stdout",
     "output_type": "stream",
     "text": [
      "Found 2148 images belonging to 2 classes.\n",
      "Found 429 images belonging to 2 classes.\n",
      "Found 288 images belonging to 2 classes.\n"
     ]
    }
   ],
   "source": [
    "trdata = ImageDataGenerator()\n",
    "#traindata = trdata.flow_from_directory(directory=\"PA_AP_train_v4\",target_size=(275, 220))\n",
    "traindata = trdata.flow_from_directory(\n",
    "    directory=\"train_{}\".format(dis),\n",
    "    target_size=(625, 500),\n",
    "    batch_size=32,\n",
    "    class_mode='categorical'\n",
    ")\n",
    "\n",
    "tsdata = ImageDataGenerator()\n",
    "testdata = tsdata.flow_from_directory(\n",
    "    directory=\"test_{}\".format(dis),\n",
    "    target_size=(625, 500),\n",
    "    batch_size=32,\n",
    "    class_mode='categorical'\n",
    ")\n",
    "\n",
    "vddata = ImageDataGenerator()\n",
    "validdata = vddata.flow_from_directory(\n",
    "    directory=\"valid_{}\".format(dis),\n",
    "    target_size=(625, 500),\n",
    "    batch_size=32,\n",
    "     \n",
    ")"
   ]
  },
  {
   "cell_type": "code",
   "execution_count": null,
   "metadata": {
    "id": "Wq4rg0Y6XKJc"
   },
   "outputs": [],
   "source": [
    "model = Sequential()\n",
    "model.add(Conv2D(32, (3, 3), activation='relu', padding='same', input_shape=(625, 500, 3)))\n",
    "model.add(BatchNormalization())\n",
    "model.add(Conv2D(32, (3, 3), activation='relu', padding='same'))\n",
    "model.add(BatchNormalization())\n",
    "model.add(MaxPooling2D((3, 3)))\n",
    "model.add(Dropout(0.2))\n",
    "model.add(Conv2D(64, (3, 3), activation='relu', padding='same'))\n",
    "model.add(BatchNormalization())\n",
    "model.add(Conv2D(64, (3, 3), activation='relu', padding='same'))\n",
    "model.add(BatchNormalization())\n",
    "model.add(MaxPooling2D((3, 3)))\n",
    "model.add(Dropout(0.3))\n",
    "model.add(Conv2D(128, (3, 3), activation='relu', padding='same'))\n",
    "model.add(BatchNormalization())\n",
    "model.add(Conv2D(128, (3, 3), activation='relu', padding='same'))\n",
    "model.add(BatchNormalization())\n",
    "model.add(MaxPooling2D((3, 3)))\n",
    "model.add(Dropout(0.4))\n",
    "model.add(Flatten())\n",
    "model.add(Dense(128, activation='relu'))\n",
    "model.add(BatchNormalization())\n",
    "#model.add(Dropout(0.5))\n",
    "model.add(Dense(2, activation='softmax'))"
   ]
  },
  {
   "cell_type": "code",
   "execution_count": null,
   "metadata": {
    "colab": {
     "base_uri": "https://localhost:8080/"
    },
    "executionInfo": {
     "elapsed": 68281,
     "status": "ok",
     "timestamp": 1605275613203,
     "user": {
      "displayName": "hit code",
      "photoUrl": "",
      "userId": "09141943501924995910"
     },
     "user_tz": 300
    },
    "id": "J_tMMt5MXYkg",
    "outputId": "715be87d-2a50-43d7-f43f-a667bae2615e"
   },
   "outputs": [
    {
     "name": "stdout",
     "output_type": "stream",
     "text": [
      "Model: \"sequential\"\n",
      "_________________________________________________________________\n",
      "Layer (type)                 Output Shape              Param #   \n",
      "=================================================================\n",
      "conv2d (Conv2D)              (None, 625, 500, 32)      896       \n",
      "_________________________________________________________________\n",
      "batch_normalization (BatchNo (None, 625, 500, 32)      128       \n",
      "_________________________________________________________________\n",
      "conv2d_1 (Conv2D)            (None, 625, 500, 32)      9248      \n",
      "_________________________________________________________________\n",
      "batch_normalization_1 (Batch (None, 625, 500, 32)      128       \n",
      "_________________________________________________________________\n",
      "max_pooling2d (MaxPooling2D) (None, 208, 166, 32)      0         \n",
      "_________________________________________________________________\n",
      "dropout (Dropout)            (None, 208, 166, 32)      0         \n",
      "_________________________________________________________________\n",
      "conv2d_2 (Conv2D)            (None, 208, 166, 64)      18496     \n",
      "_________________________________________________________________\n",
      "batch_normalization_2 (Batch (None, 208, 166, 64)      256       \n",
      "_________________________________________________________________\n",
      "conv2d_3 (Conv2D)            (None, 208, 166, 64)      36928     \n",
      "_________________________________________________________________\n",
      "batch_normalization_3 (Batch (None, 208, 166, 64)      256       \n",
      "_________________________________________________________________\n",
      "max_pooling2d_1 (MaxPooling2 (None, 69, 55, 64)        0         \n",
      "_________________________________________________________________\n",
      "dropout_1 (Dropout)          (None, 69, 55, 64)        0         \n",
      "_________________________________________________________________\n",
      "conv2d_4 (Conv2D)            (None, 69, 55, 128)       73856     \n",
      "_________________________________________________________________\n",
      "batch_normalization_4 (Batch (None, 69, 55, 128)       512       \n",
      "_________________________________________________________________\n",
      "conv2d_5 (Conv2D)            (None, 69, 55, 128)       147584    \n",
      "_________________________________________________________________\n",
      "batch_normalization_5 (Batch (None, 69, 55, 128)       512       \n",
      "_________________________________________________________________\n",
      "max_pooling2d_2 (MaxPooling2 (None, 23, 18, 128)       0         \n",
      "_________________________________________________________________\n",
      "dropout_2 (Dropout)          (None, 23, 18, 128)       0         \n",
      "_________________________________________________________________\n",
      "flatten (Flatten)            (None, 52992)             0         \n",
      "_________________________________________________________________\n",
      "dense (Dense)                (None, 128)               6783104   \n",
      "_________________________________________________________________\n",
      "batch_normalization_6 (Batch (None, 128)               512       \n",
      "_________________________________________________________________\n",
      "dense_1 (Dense)              (None, 2)                 258       \n",
      "=================================================================\n",
      "Total params: 7,072,674\n",
      "Trainable params: 7,071,522\n",
      "Non-trainable params: 1,152\n",
      "_________________________________________________________________\n"
     ]
    }
   ],
   "source": [
    "model.summary()"
   ]
  },
  {
   "cell_type": "code",
   "execution_count": null,
   "metadata": {
    "id": "gr77bnyDXZ1z"
   },
   "outputs": [],
   "source": [
    "opt = SGD(lr=0.001, momentum=0.9)\n",
    "model.compile(optimizer=opt, loss='categorical_crossentropy', metrics=['accuracy'])"
   ]
  },
  {
   "cell_type": "code",
   "execution_count": null,
   "metadata": {
    "colab": {
     "base_uri": "https://localhost:8080/"
    },
    "executionInfo": {
     "elapsed": 67119,
     "status": "ok",
     "timestamp": 1605275613423,
     "user": {
      "displayName": "hit code",
      "photoUrl": "",
      "userId": "09141943501924995910"
     },
     "user_tz": 300
    },
    "id": "AaIJ3BPSXcHm",
    "outputId": "21c09f5f-e593-47f5-8397-34d6d93246d8"
   },
   "outputs": [
    {
     "name": "stdout",
     "output_type": "stream",
     "text": [
      "Fri Nov 13 13:53:33 2020       \n",
      "+-----------------------------------------------------------------------------+\n",
      "| NVIDIA-SMI 455.32.00    Driver Version: 418.67       CUDA Version: 10.1     |\n",
      "|-------------------------------+----------------------+----------------------+\n",
      "| GPU  Name        Persistence-M| Bus-Id        Disp.A | Volatile Uncorr. ECC |\n",
      "| Fan  Temp  Perf  Pwr:Usage/Cap|         Memory-Usage | GPU-Util  Compute M. |\n",
      "|                               |                      |               MIG M. |\n",
      "|===============================+======================+======================|\n",
      "|   0  Tesla T4            Off  | 00000000:00:04.0 Off |                    0 |\n",
      "| N/A   71C    P0    31W /  70W |    359MiB / 15079MiB |      1%      Default |\n",
      "|                               |                      |                 ERR! |\n",
      "+-------------------------------+----------------------+----------------------+\n",
      "                                                                               \n",
      "+-----------------------------------------------------------------------------+\n",
      "| Processes:                                                                  |\n",
      "|  GPU   GI   CI        PID   Type   Process name                  GPU Memory |\n",
      "|        ID   ID                                                   Usage      |\n",
      "|=============================================================================|\n",
      "|  No running processes found                                                 |\n",
      "+-----------------------------------------------------------------------------+\n"
     ]
    }
   ],
   "source": [
    "!nvidia-smi"
   ]
  },
  {
   "cell_type": "code",
   "execution_count": null,
   "metadata": {
    "colab": {
     "base_uri": "https://localhost:8080/",
     "height": 35
    },
    "executionInfo": {
     "elapsed": 66514,
     "status": "ok",
     "timestamp": 1605275613425,
     "user": {
      "displayName": "hit code",
      "photoUrl": "",
      "userId": "09141943501924995910"
     },
     "user_tz": 300
    },
    "id": "zEJKZePQukTf",
    "outputId": "bfbcf551-d786-49ff-c080-36bfa72c5011"
   },
   "outputs": [
    {
     "data": {
      "application/vnd.google.colaboratory.intrinsic+json": {
       "type": "string"
      },
      "text/plain": [
       "'nodule'"
      ]
     },
     "execution_count": 12,
     "metadata": {
      "tags": []
     },
     "output_type": "execute_result"
    }
   ],
   "source": [
    "dis"
   ]
  },
  {
   "cell_type": "code",
   "execution_count": null,
   "metadata": {
    "colab": {
     "base_uri": "https://localhost:8080/"
    },
    "executionInfo": {
     "elapsed": 1204658,
     "status": "ok",
     "timestamp": 1605276818109,
     "user": {
      "displayName": "hit code",
      "photoUrl": "",
      "userId": "09141943501924995910"
     },
     "user_tz": 300
    },
    "id": "Sz0LWLE9XdnZ",
    "outputId": "d54b6aad-923a-4aaa-a45f-e480ab6ec562"
   },
   "outputs": [
    {
     "name": "stdout",
     "output_type": "stream",
     "text": [
      "Epoch 1/4\n",
      "68/68 [==============================] - 1027s 15s/step - loss: 0.8258 - accuracy: 0.5624 - val_loss: 0.6135 - val_accuracy: 0.7343\n",
      "Epoch 2/4\n",
      "68/68 [==============================] - 50s 730ms/step - loss: 0.6178 - accuracy: 0.6732 - val_loss: 0.5881 - val_accuracy: 0.7343\n",
      "Epoch 3/4\n",
      "68/68 [==============================] - 49s 724ms/step - loss: 0.5804 - accuracy: 0.7211 - val_loss: 0.5983 - val_accuracy: 0.7343\n",
      "Epoch 4/4\n",
      "68/68 [==============================] - 49s 727ms/step - loss: 0.5657 - accuracy: 0.7253 - val_loss: 0.5857 - val_accuracy: 0.7366\n"
     ]
    }
   ],
   "source": [
    "hist = model.fit(\n",
    "    traindata, \n",
    "    validation_data=testdata,\n",
    "    epochs=4\n",
    ")"
   ]
  },
  {
   "cell_type": "code",
   "execution_count": null,
   "metadata": {
    "colab": {
     "base_uri": "https://localhost:8080/"
    },
    "executionInfo": {
     "elapsed": 118881,
     "status": "ok",
     "timestamp": 1605276957470,
     "user": {
      "displayName": "hit code",
      "photoUrl": "",
      "userId": "09141943501924995910"
     },
     "user_tz": 300
    },
    "id": "OpTxh5Xsd2n6",
    "outputId": "abf3bb30-3aad-4bfb-d18a-f3ad69602531"
   },
   "outputs": [
    {
     "name": "stdout",
     "output_type": "stream",
     "text": [
      "WARNING:tensorflow:From <ipython-input-14-fc6a972f300e>:1: Model.evaluate_generator (from tensorflow.python.keras.engine.training) is deprecated and will be removed in a future version.\n",
      "Instructions for updating:\n",
      "Please use Model.evaluate, which supports generators.\n",
      "Loss:  0.5867898464202881 Accuracy:  0.7326388955116272\n",
      "> 73.264\n"
     ]
    }
   ],
   "source": [
    "acc = model.evaluate_generator(validdata)\n",
    "print(\"Loss: \", acc[0], \"Accuracy: \", acc[1])\n",
    "print('> %.3f' % (acc[1] * 100.0))"
   ]
  },
  {
   "cell_type": "code",
   "execution_count": null,
   "metadata": {
    "colab": {
     "base_uri": "https://localhost:8080/",
     "height": 295
    },
    "executionInfo": {
     "elapsed": 118882,
     "status": "ok",
     "timestamp": 1605276957686,
     "user": {
      "displayName": "hit code",
      "photoUrl": "",
      "userId": "09141943501924995910"
     },
     "user_tz": 300
    },
    "id": "hEv7oahcd51-",
    "outputId": "1caa6dd8-300e-431f-b4c4-8fbdee907259"
   },
   "outputs": [
    {
     "data": {
      "image/png": "[encoded data removed]",
      "text/plain": [
       "<Figure size 432x288 with 1 Axes>"
      ]
     },
     "metadata": {
      "needs_background": "light",
      "tags": []
     },
     "output_type": "display_data"
    }
   ],
   "source": [
    "plt.plot(hist.history[\"accuracy\"])\n",
    "plt.plot(hist.history['val_accuracy'])\n",
    "plt.title(\"{}\".format(dis).capitalize())\n",
    "plt.ylabel(\"Accuracy\")\n",
    "plt.xlabel(\"Epoch\")\n",
    "plt.legend([\"Accuracy\",\"Validation Accuracy\"])\n",
    "plt.savefig(\"imgs/{}_acc.png\".format(dis))\n",
    "plt.show()"
   ]
  },
  {
   "cell_type": "code",
   "execution_count": null,
   "metadata": {
    "colab": {
     "base_uri": "https://localhost:8080/",
     "height": 295
    },
    "executionInfo": {
     "elapsed": 118897,
     "status": "ok",
     "timestamp": 1605276957903,
     "user": {
      "displayName": "hit code",
      "photoUrl": "",
      "userId": "09141943501924995910"
     },
     "user_tz": 300
    },
    "id": "MSFEivaSevgb",
    "outputId": "5edd38b3-43a0-4b96-b383-47b31a3040d6"
   },
   "outputs": [
    {
     "data": {
      "image/png": "[encoded data removed]",
      "text/plain": [
       "<Figure size 432x288 with 1 Axes>"
      ]
     },
     "metadata": {
      "needs_background": "light",
      "tags": []
     },
     "output_type": "display_data"
    }
   ],
   "source": [
    "plt.plot(hist.history[\"loss\"])\n",
    "plt.plot(hist.history['val_loss'])\n",
    "plt.title(\"{}\".format(dis).capitalize())\n",
    "plt.ylabel(\"Loss\")\n",
    "plt.xlabel(\"Epoch\")\n",
    "plt.legend([\"loss\",\"Validation Loss\"])\n",
    "plt.savefig(\"imgs/{}_loss.png\".format(dis))\n",
    "plt.show()"
   ]
  },
  {
   "cell_type": "code",
   "execution_count": null,
   "metadata": {
    "id": "o2PZOdkDXfPz"
   },
   "outputs": [],
   "source": [
    "model.save(\"models/{}_625_500.h5\".format(dis))"
   ]
  },
  {
   "cell_type": "code",
   "execution_count": null,
   "metadata": {
    "id": "O898Mzeoujoy"
   },
   "outputs": [],
   "source": []
  },
  {
   "cell_type": "code",
   "execution_count": null,
   "metadata": {
    "colab": {
     "base_uri": "https://localhost:8080/"
    },
    "executionInfo": {
     "elapsed": 399,
     "status": "ok",
     "timestamp": 1605268952284,
     "user": {
      "displayName": "hit code",
      "photoUrl": "",
      "userId": "09141943501924995910"
     },
     "user_tz": 300
    },
    "id": "0_KS9mMLe-qG",
    "outputId": "c09e6bc8-bfb7-4261-8707-55f82cfc9a13"
   },
   "outputs": [
    {
     "name": "stdout",
     "output_type": "stream",
     "text": [
      "Fri Nov 13 12:02:32 2020       \n",
      "+-----------------------------------------------------------------------------+\n",
      "| NVIDIA-SMI 455.32.00    Driver Version: 418.67       CUDA Version: 10.1     |\n",
      "|-------------------------------+----------------------+----------------------+\n",
      "| GPU  Name        Persistence-M| Bus-Id        Disp.A | Volatile Uncorr. ECC |\n",
      "| Fan  Temp  Perf  Pwr:Usage/Cap|         Memory-Usage | GPU-Util  Compute M. |\n",
      "|                               |                      |               MIG M. |\n",
      "|===============================+======================+======================|\n",
      "|   0  Tesla T4            Off  | 00000000:00:04.0 Off |                    0 |\n",
      "| N/A   76C    P0    32W /  70W |  14575MiB / 15079MiB |      0%      Default |\n",
      "|                               |                      |                 ERR! |\n",
      "+-------------------------------+----------------------+----------------------+\n",
      "                                                                               \n",
      "+-----------------------------------------------------------------------------+\n",
      "| Processes:                                                                  |\n",
      "|  GPU   GI   CI        PID   Type   Process name                  GPU Memory |\n",
      "|        ID   ID                                                   Usage      |\n",
      "|=============================================================================|\n",
      "|  No running processes found                                                 |\n",
      "+-----------------------------------------------------------------------------+\n"
     ]
    }
   ],
   "source": [
    "!nvidia-smi"
   ]
  },
  {
   "cell_type": "code",
   "execution_count": null,
   "metadata": {
    "id": "PmnWIn7WfFMN"
   },
   "outputs": [],
   "source": []
  }
 ],
 "metadata": {
  "accelerator": "GPU",
  "colab": {
   "collapsed_sections": [],
   "name": "vgg_keras_v2.ipynb",
   "provenance": []
  },
  "kernelspec": {
   "display_name": "Python 3",
   "language": "python",
   "name": "python3"
  },
  "language_info": {
   "codemirror_mode": {
    "name": "ipython",
    "version": 3
   },
   "file_extension": ".py",
   "mimetype": "text/x-python",
   "name": "python",
   "nbconvert_exporter": "python",
   "pygments_lexer": "ipython3",
   "version": "3.8.5"
  }
 },
 "nbformat": 4,
 "nbformat_minor": 1
}
